{
 "cells": [
  {
   "cell_type": "code",
   "execution_count": 10,
   "metadata": {},
   "outputs": [],
   "source": [
    "import pandas as pd\n",
    "import numpy as np \n",
    "import matplotlib.pyplot as plt\n",
    "import math\n",
    "from sklearn import svm"
   ]
  },
  {
   "cell_type": "markdown",
   "metadata": {},
   "source": [
    "# Read Data"
   ]
  },
  {
   "cell_type": "code",
   "execution_count": 11,
   "metadata": {},
   "outputs": [],
   "source": [
    "data = pd.read_csv('facebook-fact-check.csv')\n",
    "\n",
    "split = int(math.ceil(len(data)*0.8))\n",
    "train_data = data[:split]\n",
    "test_data = data[split+1:]"
   ]
  },
  {
   "cell_type": "markdown",
   "metadata": {},
   "source": [
    "# Preprocessed Data"
   ]
  },
  {
   "cell_type": "code",
   "execution_count": 12,
   "metadata": {},
   "outputs": [
    {
     "name": "stdout",
     "output_type": "stream",
     "text": [
      "['no factual content' 'mostly true' 'mixture of true and false'\n",
      " 'mostly false']\n"
     ]
    }
   ],
   "source": [
    "share_count_train = train_data['share_count'].values.tolist();\n",
    "train_sc = np.array([0 if math.isnan(i) else i for i in share_count_train])\n",
    "train_rc = np.array([0 if math.isnan(i) else i for i in train_data['reaction_count'].values.tolist()])\n",
    "train_cc = np.array([0 if math.isnan(i) else i for i in train_data['comment_count'].values.tolist()])\n",
    "rating = train_data['Rating'].unique()\n",
    "print(rating)\n",
    "myclass = []\n",
    "name2id = {}\n",
    "for val in train_data['Rating'].values.tolist():\n",
    "    for i,val_ref in enumerate(rating):\n",
    "        if val == val_ref:\n",
    "            myclass.append(i)\n",
    "            name2id[i] = val_ref\n",
    "\n",
    "normalized_sc_train = (train_sc-min(train_sc))/(max(train_sc)-min(train_sc))\n",
    "normalized_rc_train = (train_rc-min(train_rc))/(max(train_rc)-min(train_rc))\n",
    "normalized_cc_train = (train_cc-min(train_cc))/(max(train_cc)-min(train_cc))\n",
    "features_train =  np.column_stack((normalized_sc_train,normalized_rc_train,normalized_cc_train))\n",
    "\n",
    "#plt.scatter(myclass,normalized_sc)\n",
    "#plt.show()"
   ]
  },
  {
   "cell_type": "markdown",
   "metadata": {},
   "source": [
    "# Model fit"
   ]
  },
  {
   "cell_type": "code",
   "execution_count": 13,
   "metadata": {},
   "outputs": [
    {
     "data": {
      "text/plain": [
       "SVC(C=1.0, cache_size=200, class_weight=None, coef0=0.0,\n",
       "  decision_function_shape='ovr', degree=3, gamma='auto', kernel='rbf',\n",
       "  max_iter=-1, probability=False, random_state=None, shrinking=True,\n",
       "  tol=0.001, verbose=False)"
      ]
     },
     "execution_count": 13,
     "metadata": {},
     "output_type": "execute_result"
    }
   ],
   "source": [
    "clf = svm.SVC()\n",
    "clf.fit(features_train, myclass)"
   ]
  },
  {
   "cell_type": "markdown",
   "metadata": {},
   "source": [
    "# Test Model"
   ]
  },
  {
   "cell_type": "code",
   "execution_count": 19,
   "metadata": {},
   "outputs": [],
   "source": [
    "share_count_test = test_data['share_count'].values.tolist();\n",
    "test_sc = np.array([0 if math.isnan(i) else i for i in share_count_test])\n",
    "test_rc = np.array([0 if math.isnan(i) else i for i in test_data['reaction_count'].values.tolist()])\n",
    "test_cc = np.array([0 if math.isnan(i) else i for i in test_data['comment_count'].values.tolist()])\n",
    "\n",
    "normalized_sc_test = (test_sc-min(test_sc))/(max(test_sc)-min(test_sc))\n",
    "normalized_rc_test = (test_rc-min(test_rc))/(max(test_rc)-min(test_rc))\n",
    "normalized_cc_test = (test_cc-min(test_cc))/(max(test_cc)-min(test_cc))\n",
    "features_test =  np.column_stack((normalized_sc_test,normalized_rc_test,normalized_cc_test))\n",
    "\n",
    "myclass_test = []\n",
    "for val in test_data['Rating'].values.tolist():\n",
    "    for i,val_ref in enumerate(rating):\n",
    "        if val == val_ref:\n",
    "            myclass_test.append(i)\n",
    "#print(myclass_test)"
   ]
  },
  {
   "cell_type": "markdown",
   "metadata": {},
   "source": [
    "# Predict"
   ]
  },
  {
   "cell_type": "code",
   "execution_count": 20,
   "metadata": {},
   "outputs": [
    {
     "data": {
      "text/plain": [
       "0.6021978021978022"
      ]
     },
     "execution_count": 20,
     "metadata": {},
     "output_type": "execute_result"
    }
   ],
   "source": [
    "output = clf.predict(features_test)\n",
    "#for i in output:\n",
    " #   print(name2id[i])\n",
    "    \n",
    "clf.score(features_test, myclass_test)"
   ]
  },
  {
   "cell_type": "code",
   "execution_count": null,
   "metadata": {},
   "outputs": [],
   "source": []
  }
 ],
 "metadata": {
  "kernelspec": {
   "display_name": "Python 3",
   "language": "python",
   "name": "python3"
  },
  "language_info": {
   "codemirror_mode": {
    "name": "ipython",
    "version": 3
   },
   "file_extension": ".py",
   "mimetype": "text/x-python",
   "name": "python",
   "nbconvert_exporter": "python",
   "pygments_lexer": "ipython3",
   "version": "3.6.5"
  }
 },
 "nbformat": 4,
 "nbformat_minor": 2
}
